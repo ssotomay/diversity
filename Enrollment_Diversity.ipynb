{
 "cells": [
  {
   "cell_type": "markdown",
   "metadata": {},
   "source": [
    "# Enrollment Diversity at Wellesley\n",
    "#### by Selina and Whitney"
   ]
  },
  {
   "cell_type": "markdown",
   "metadata": {},
   "source": [
    "We will be exploring data that contains student enrollments for each department broken down by course level and race/ethnicity of enrolled students (i.e. number of students by race in BISC 100, BISC 200, BISC 300) for the past 4 academic years (Fall 2011 to Spring 2015). "
   ]
  },
  {
   "cell_type": "markdown",
   "metadata": {},
   "source": [
    "We are wondering if the diversity of students in courses varies by course level and department. It could be that regardless of department, many 100 level courses have diverse students. However, it may be that this diveristy decreases as course level increases (i.e. there is less diveristy in 200 level courses and lesser diversity in 300 level courses). This could also vary by department. We suspect that many of the upper level courses in the STEM departments have fewer non-white and non-Asian students, but it could be that there are more of these students in upper level courses in other departments (i.e WGST or POLS). "
   ]
  },
  {
   "cell_type": "code",
   "execution_count": 1,
   "metadata": {
    "collapsed": true
   },
   "outputs": [],
   "source": [
    "import pandas as pd\n",
    "import io\n",
    "import xlrd\n",
    "from pandas import Series, DataFrame"
   ]
  },
  {
   "cell_type": "code",
   "execution_count": 1,
   "metadata": {
    "collapsed": false
   },
   "outputs": [
    {
     "data": {
      "text/html": [
       "<script>\n",
       "code_show=true; \n",
       "function code_toggle() {\n",
       " if (code_show){\n",
       " $('div.input').hide();\n",
       " } else {\n",
       " $('div.input').show();\n",
       " }\n",
       " code_show = !code_show\n",
       "} \n",
       "$( document ).ready(code_toggle);\n",
       "</script>\n",
       "<form action=\"javascript:code_toggle()\"><input type=\"submit\" value=\"Click here to toggle on/off the raw code.\"></form>"
      ],
      "text/plain": [
       "<IPython.core.display.HTML object>"
      ]
     },
     "execution_count": 1,
     "metadata": {},
     "output_type": "execute_result"
    }
   ],
   "source": [
    "from IPython.display import HTML\n",
    "\n",
    "HTML('''<script>\n",
    "code_show=true; \n",
    "function code_toggle() {\n",
    " if (code_show){\n",
    " $('div.input').hide();\n",
    " } else {\n",
    " $('div.input').show();\n",
    " }\n",
    " code_show = !code_show\n",
    "} \n",
    "$( document ).ready(code_toggle);\n",
    "</script>\n",
    "<form action=\"javascript:code_toggle()\"><input type=\"submit\" value=\"Click here to toggle on/off the raw code.\"></form>''')"
   ]
  },
  {
   "cell_type": "markdown",
   "metadata": {},
   "source": [
    "Here we create a 3D Cluster graph using plotly"
   ]
  },
  {
   "cell_type": "code",
   "execution_count": 39,
   "metadata": {
    "collapsed": false
   },
   "outputs": [
    {
     "name": "stderr",
     "output_type": "stream",
     "text": [
      "/Users/ssotomayor93/Library/Enthought/Canopy_64bit/User/lib/python2.7/site-packages/matplotlib/font_manager.py:273: UserWarning:\n",
      "\n",
      "Matplotlib is building the font cache using fc-list. This may take a moment.\n",
      "\n"
     ]
    },
    {
     "data": {
      "text/html": [
       "<iframe id=\"igraph\" scrolling=\"no\" style=\"border:none;\" seamless=\"seamless\" src=\"https://plot.ly/~wfahnbul/16.embed\" height=\"525px\" width=\"100%\"></iframe>"
      ],
      "text/plain": [
       "<plotly.tools.PlotlyDisplay object>"
      ]
     },
     "execution_count": 39,
     "metadata": {},
     "output_type": "execute_result"
    }
   ],
   "source": [
    "import plotly.plotly as py\n",
    "%matplotlib inline \n",
    "\n",
    "py.sign_in('wfahnbul', 'vijrqi8zag')\n",
    "\n",
    "scatter = dict(\n",
    "    mode = \"markers\",\n",
    "    name = \"y\",\n",
    "    type = \"scatter3d\",    \n",
    "    x = df8['Asian'], y = df8['Black, Latina'], z = df8['White'],\n",
    "    marker = dict( size=2, color=\"rgb(23, 190, 207)\" )\n",
    ")\n",
    "clusters = dict(\n",
    "    alphahull = 3,\n",
    "    name = \"y\",\n",
    "    opacity = 0.1,\n",
    "    type = \"mesh3d\",    \n",
    "    x = df8['Asian'], y = df8['Black, Latina'], z = df8['White']\n",
    ")\n",
    "layout = dict(\n",
    "    title = 'Diversity at Wellesley',\n",
    "    scene = dict(\n",
    "        xaxis = dict(title = 'Asian', zeroline=False ),\n",
    "        yaxis = dict(title = 'Black, Latina', zeroline=False ),\n",
    "        zaxis = dict(title = 'White', zeroline=False ),\n",
    "    )\n",
    ")\n",
    "fig = dict( data=[scatter, clusters], layout=layout )\n",
    "# Use py.iplot() for IPython notebook\n",
    "py.iplot(fig, filename='Diversity at Wellesley')"
   ]
  },
  {
   "cell_type": "markdown",
   "metadata": {},
   "source": [
    "The graph above is all the courses. However they are not distinguished by categories."
   ]
  },
  {
   "cell_type": "markdown",
   "metadata": {},
   "source": [
    "Here is our second attempt the at the 3D Clustering Graph for all courses with categories."
   ]
  },
  {
   "cell_type": "code",
   "execution_count": 40,
   "metadata": {
    "collapsed": false,
    "scrolled": false
   },
   "outputs": [
    {
     "data": {
      "text/html": [
       "<iframe id=\"igraph\" scrolling=\"no\" style=\"border:none;\" seamless=\"seamless\" src=\"https://plot.ly/~wfahnbul/22.embed\" height=\"550px\" width=\"800px\"></iframe>"
      ],
      "text/plain": [
       "<plotly.tools.PlotlyDisplay object>"
      ]
     },
     "execution_count": 40,
     "metadata": {},
     "output_type": "execute_result"
    }
   ],
   "source": [
    "import plotly.graph_objs as go\n",
    "%matplotlib inline \n",
    "\n",
    "py.sign_in('wfahnbul', 'vijrqi8zag')\n",
    "\n",
    "data = []\n",
    "clusters = []\n",
    "colors = ['rgb(228,26,28)','rgb(55,126,184)','rgb(77,175,74)']\n",
    "\n",
    "for i in range(len(df8['Category'].unique())):\n",
    "    category = df8['Category'].unique()[i]\n",
    "    color = colors[i]\n",
    "    x = df8[ df8['Category'] == category ]['Asian']\n",
    "    y = df8[ df8['Category'] == category ]['Black, Latina']\n",
    "    z = df8[ df8['Category'] == category ]['White']\n",
    "    \n",
    "    trace = dict(\n",
    "        name = category,\n",
    "        x = x, y = y, z = z,\n",
    "        type = \"scatter3d\",    \n",
    "        mode = 'markers',\n",
    "        marker = dict( size=3, color=color, line=dict(width=0) ) )\n",
    "    data.append( trace )\n",
    "\n",
    "layout = dict(\n",
    "    width=800,\n",
    "    height=550,\n",
    "    autosize=False,\n",
    "    title='Diversity dataset',\n",
    "    scene=dict(\n",
    "        xaxis=dict(\n",
    "            title=\"Asian\",\n",
    "            gridcolor='rgb(255, 255, 255)',\n",
    "            zerolinecolor='rgb(255, 255, 255)',\n",
    "            showbackground=True,\n",
    "            backgroundcolor='rgb(230, 230,230)'\n",
    "        ),\n",
    "        yaxis=dict(\n",
    "            title=\"Black, Latina\",\n",
    "            gridcolor='rgb(255, 255, 255)',\n",
    "            zerolinecolor='rgb(255, 255, 255)',\n",
    "            showbackground=True,\n",
    "            backgroundcolor='rgb(230, 230,230)'\n",
    "        ),\n",
    "        zaxis=dict(\n",
    "            title = \"White\",\n",
    "            gridcolor='rgb(255, 255, 255)',\n",
    "            zerolinecolor='rgb(255, 255, 255)',\n",
    "            showbackground=True,\n",
    "            backgroundcolor='rgb(230, 230,230)'\n",
    "        ),\n",
    "        aspectratio = dict( x=1, y=1, z=0.7 ),\n",
    "        aspectmode = 'manual'        \n",
    "    ),\n",
    ")\n",
    "\n",
    "fig = dict(data=data, layout=layout)\n",
    "\n",
    "# IPython notebook\n",
    "py.iplot(fig, filename='Diversity dataset', validate=False)\n",
    "\n",
    "#url = py.plot(fig, filename='pandas-3d-scatter-iris', validate=False)\n"
   ]
  },
  {
   "cell_type": "markdown",
   "metadata": {},
   "source": [
    "We chose to use plotly to make this graph because of its interactive nature. We found the turnable rotation tool to be the most helpful in looking at the graph from different angles. There are many points clustered in the middle. If you click on one or more of the categories in the legend, those corresponding points will disappear. \n",
    "\n",
    "**Humanities selected:**\n",
    "* White: Most of the points are clustered towards the \"White\" axis.\n",
    "* Asian: It seems that Asian students are underrepresented in Humanities.\n",
    "* Black, Latina: It seems that Black and Latina students underrepresented in Humanities.\n",
    "\n",
    "**STEM selected:**\n",
    "* White: A large cluster of the points may suggest that these courses are comprised of less than 50% of these students.\n",
    "* Black, Latina: There seems to an underrepresentation of Black and Latina students.\n",
    "* Asian: These students seem to be well represented in STEM.\n",
    "\n",
    "**Social_Sciences selected:**\n",
    "* White: These students are well represented.\n",
    "* Black, Latina: Slightly more representation of these Students than in STEM.\n",
    "* Asian: There is less representation of these students here than in STEM."
   ]
  },
  {
   "cell_type": "code",
   "execution_count": 43,
   "metadata": {
    "collapsed": false
   },
   "outputs": [
    {
     "data": {
      "text/html": [
       "<iframe id=\"igraph\" scrolling=\"no\" style=\"border:none;\" seamless=\"seamless\" src=\"https://plot.ly/~wfahnbul/24.embed\" height=\"550px\" width=\"800px\"></iframe>"
      ],
      "text/plain": [
       "<plotly.tools.PlotlyDisplay object>"
      ]
     },
     "execution_count": 43,
     "metadata": {},
     "output_type": "execute_result"
    }
   ],
   "source": [
    "%matplotlib inline \n",
    "\n",
    "py.sign_in('wfahnbul', 'vijrqi8zag')\n",
    "\n",
    "data = []\n",
    "clusters = []\n",
    "colors = ['rgb(228,26,28)','rgb(55,126,184)','rgb(77,175,74)']\n",
    "\n",
    "for i in range(len(df100['Category'].unique())):\n",
    "    category = df100['Category'].unique()[i]\n",
    "    color = colors[i]\n",
    "    x = df100[ df100['Category'] == category ]['Asian']\n",
    "    y = df100[ df100['Category'] == category ]['Black, Latina']\n",
    "    z = df100[ df100['Category'] == category ]['White']\n",
    "    \n",
    "    trace = dict(\n",
    "        name = category,\n",
    "        x = x, y = y, z = z,\n",
    "        type = \"scatter3d\",    \n",
    "        mode = 'markers',\n",
    "        marker = dict( size=3, color=color, line=dict(width=0) ) )\n",
    "    data.append( trace )\n",
    "\n",
    "layout = dict(\n",
    "    width=800,\n",
    "    height=550,\n",
    "    autosize=False,\n",
    "    title='Diversity 100 Level Courses dataset',\n",
    "    scene=dict(\n",
    "        xaxis=dict(\n",
    "            title = \"Asian\",\n",
    "            gridcolor='rgb(255, 255, 255)',\n",
    "            zerolinecolor='rgb(255, 255, 255)',\n",
    "            showbackground=True,\n",
    "            backgroundcolor='rgb(230, 230,230)'\n",
    "        ),\n",
    "        yaxis=dict(\n",
    "            title=\"Black, Latina\",\n",
    "            gridcolor='rgb(255, 255, 255)',\n",
    "            zerolinecolor='rgb(255, 255, 255)',\n",
    "            showbackground=True,\n",
    "            backgroundcolor='rgb(230, 230,230)'\n",
    "        ),\n",
    "        zaxis=dict(\n",
    "            title = \"White\",\n",
    "            gridcolor='rgb(255, 255, 255)',\n",
    "            zerolinecolor='rgb(255, 255, 255)',\n",
    "            showbackground=True,\n",
    "            backgroundcolor='rgb(230, 230,230)'\n",
    "        ),\n",
    "        aspectratio = dict( x=1, y=1, z=0.7 ),\n",
    "        aspectmode = 'manual'        \n",
    "    ),\n",
    ")\n",
    "\n",
    "fig = dict(data=data, layout=layout)\n",
    "\n",
    "# IPython notebook\n",
    "py.iplot(fig, filename='Diversity 100 Level Courses dataset', validate=False)"
   ]
  },
  {
   "cell_type": "markdown",
   "metadata": {},
   "source": [
    "**Humanities selected:**\n",
    "* White: Most of the points are clustered towards the middle (0.5) of the \"White\" axis.\n",
    "* Asian: There seems to be less representation of these students here, but there are a few outliers towards the higher end (above 0.3) of the \"Asian\" axis.\n",
    "* Black, Latina: The points seem more spread out, but there is a higher concentration of points towards the lower end (0.3) of the \"Black, Latina\" axis. \n",
    "\n",
    "**STEM selected:**\n",
    "* White: These students are well represented. The points seem to cluster more towards the higher end (above 0.3) of the \"White\" axis.\n",
    "* Black, Latina: There is an underrepresentation of Black and Latina students, with a few outliers. \n",
    "* Asian: The points are more spread out for these students, but are slightly more concentrated towards the higher end (above 0.2) of the \"Asian\" axis.\n",
    "\n",
    "**Social_Sciences selected:**\n",
    "* White: These students are well represented.\n",
    "* Black, Latina: These students are more represented here than in STEM.\n",
    "* Asian: The points are more towards the lower end (below 0.3).  "
   ]
  },
  {
   "cell_type": "code",
   "execution_count": 42,
   "metadata": {
    "collapsed": false,
    "scrolled": false
   },
   "outputs": [
    {
     "data": {
      "text/html": [
       "<iframe id=\"igraph\" scrolling=\"no\" style=\"border:none;\" seamless=\"seamless\" src=\"https://plot.ly/~wfahnbul/26.embed\" height=\"550px\" width=\"800px\"></iframe>"
      ],
      "text/plain": [
       "<plotly.tools.PlotlyDisplay object>"
      ]
     },
     "execution_count": 42,
     "metadata": {},
     "output_type": "execute_result"
    }
   ],
   "source": [
    "%matplotlib inline \n",
    "\n",
    "py.sign_in('wfahnbul', 'vijrqi8zag')\n",
    "\n",
    "data = []\n",
    "clusters = []\n",
    "colors = ['rgb(228,26,28)','rgb(55,126,184)','rgb(77,175,74)']\n",
    "\n",
    "for i in range(len(df200['Category'].unique())):\n",
    "    category = df200['Category'].unique()[i]\n",
    "    color = colors[i]\n",
    "    x = df200[ df200['Category'] == category ]['Asian']\n",
    "    y = df200[ df200['Category'] == category ]['Black, Latina']\n",
    "    z = df200[ df200['Category'] == category ]['White']\n",
    "    \n",
    "    trace = dict(\n",
    "        name = category,\n",
    "        x = x, y = y, z = z,\n",
    "        type = \"scatter3d\",    \n",
    "        mode = 'markers',\n",
    "        marker = dict( size=3, color=color, line=dict(width=0) ) )\n",
    "    data.append( trace )\n",
    "\n",
    "layout = dict(\n",
    "    width=800,\n",
    "    height=550,\n",
    "    autosize=False,\n",
    "    title='Diversity 200 Level Courses dataset',\n",
    "    scene=dict(\n",
    "        xaxis=dict(\n",
    "            title = \"Asian\",\n",
    "            gridcolor='rgb(255, 255, 255)',\n",
    "            zerolinecolor='rgb(255, 255, 255)',\n",
    "            showbackground=True,\n",
    "            backgroundcolor='rgb(230, 230,230)'\n",
    "        ),\n",
    "        yaxis=dict(\n",
    "            title=\"Black, Latina\",\n",
    "            gridcolor='rgb(255, 255, 255)',\n",
    "            zerolinecolor='rgb(255, 255, 255)',\n",
    "            showbackground=True,\n",
    "            backgroundcolor='rgb(230, 230,230)'\n",
    "        ),\n",
    "        zaxis=dict(\n",
    "            title = \"White\",\n",
    "            gridcolor='rgb(255, 255, 255)',\n",
    "            zerolinecolor='rgb(255, 255, 255)',\n",
    "            showbackground=True,\n",
    "            backgroundcolor='rgb(230, 230,230)'\n",
    "        ),\n",
    "        aspectratio = dict( x=1, y=1, z=0.7 ),\n",
    "        aspectmode = 'manual'        \n",
    "    ),\n",
    ")\n",
    "\n",
    "fig = dict(data=data, layout=layout)\n",
    "\n",
    "# IPython notebook\n",
    "py.iplot(fig, filename='Diversity 200 Level Courses dataset', validate=False)"
   ]
  },
  {
   "cell_type": "markdown",
   "metadata": {},
   "source": [
    "**Humanities selected:**\n",
    "* White: Most of the points are clustered towards the higher end (above 0.4) of the \"White\" axis.\n",
    "* Asian: There seems to be less representation of these students here, but there are a few outliers towards the higher end (above 0.4) of the \"Asian\" axis.\n",
    "* Black, Latina: There is a higher concentration of points towards the lower half (below 0.3) of the \"Black, Latina\" axis. \n",
    "\n",
    "**STEM selected:**\n",
    "* White: The points seems to be concentrated at or below the middle (0.5 and below) of the \"White\" axis.\n",
    "* Black, Latina: There is a lack of representation here, with most of the points clustered towards the lower half (below 0.15) the \"Black, Latina\" axis. \n",
    "* Asian: The points seem to be spread out, but slightly more concentrated towards the middle (0.3) of the \"Asian\" axis.\n",
    "\n",
    "**Social_Sciences selected:**\n",
    "* White: The points seem slightly more concentrated towards the middle (0.45) of the \"White\" axis.\n",
    "* Black, Latina: The points seem fairly spread. There may be a slightly higher concentration of points towards the upper half (above 0.2) of the \"Black and Latina\"\n",
    "* Asian: The points are spread out evenly for these students. "
   ]
  },
  {
   "cell_type": "code",
   "execution_count": 45,
   "metadata": {
    "collapsed": false,
    "scrolled": false
   },
   "outputs": [
    {
     "data": {
      "text/html": [
       "<iframe id=\"igraph\" scrolling=\"no\" style=\"border:none;\" seamless=\"seamless\" src=\"https://plot.ly/~wfahnbul/28.embed\" height=\"550px\" width=\"800px\"></iframe>"
      ],
      "text/plain": [
       "<plotly.tools.PlotlyDisplay object>"
      ]
     },
     "execution_count": 45,
     "metadata": {},
     "output_type": "execute_result"
    }
   ],
   "source": [
    "%matplotlib inline \n",
    "\n",
    "py.sign_in('wfahnbul', 'vijrqi8zag')\n",
    "\n",
    "data = []\n",
    "clusters = []\n",
    "colors = ['rgb(228,26,28)','rgb(55,126,184)','rgb(77,175,74)']\n",
    "for i,t in zip(range(len(df300['Category'].unique())),text):\n",
    "    category = df300['Category'].unique()[i]\n",
    "    color = colors[i]\n",
    "    x = df300[ df300['Category'] == category ]['Asian']\n",
    "    y = df300[ df300['Category'] == category ]['Black, Latina']\n",
    "    z = df300[ df300['Category'] == category ]['White']\n",
    "    trace = dict(\n",
    "        name = category,\n",
    "        x = x, y = y, z = z,\n",
    "        type = \"scatter3d\", \n",
    "        mode = 'markers',\n",
    "        marker = dict( size=3, color=color, line=dict(width=0) ) )\n",
    "    data.append( trace )\n",
    "\n",
    "layout = dict(\n",
    "    width=800,\n",
    "    height=550,\n",
    "    autosize=False,\n",
    "    title='Diversity 300 Level Courses dataset',\n",
    "    scene=dict(\n",
    "        xaxis=dict(\n",
    "            title = \"Asian\",\n",
    "            gridcolor='rgb(255, 255, 255)',\n",
    "            zerolinecolor='rgb(255, 255, 255)',\n",
    "            showbackground=True,\n",
    "            backgroundcolor='rgb(230, 230,230)'\n",
    "        ),\n",
    "        yaxis=dict(\n",
    "            title=\"Black, Latina\",\n",
    "            gridcolor='rgb(255, 255, 255)',\n",
    "            zerolinecolor='rgb(255, 255, 255)',\n",
    "            showbackground=True,\n",
    "            backgroundcolor='rgb(230, 230,230)'\n",
    "        ),\n",
    "        zaxis=dict(\n",
    "            title = \"White\",\n",
    "            gridcolor='rgb(255, 255, 255)',\n",
    "            zerolinecolor='rgb(255, 255, 255)',\n",
    "            showbackground=True,\n",
    "            backgroundcolor='rgb(230, 230,230)'\n",
    "        ),\n",
    "        aspectratio = dict( x=1, y=1, z=0.7 ),\n",
    "        aspectmode = 'manual'        \n",
    "    ),\n",
    ")\n",
    "\n",
    "fig = dict(data=data, layout=layout)\n",
    "\n",
    "# IPython notebook\n",
    "py.iplot(fig, filename='Diversity 300 Level Courses dataset', validate=False)"
   ]
  },
  {
   "cell_type": "markdown",
   "metadata": {},
   "source": [
    "**Humanities selected:**\n",
    "* White: Most of the points are towards the lower half (below 0.45) of the \"White\" axis. However, there is a cluster of points above the middle axis that have a high concentration of White students and very low concentration of Black and Latina, and Asian students.\n",
    "* Asian: There is a lack of representation of these students. Most of the points are below the lower half (0.45) of the \"Asian\" axis.\n",
    "* Black, Latina: There is a higher concentration of points towards the lower half (below 0.4) of the \"Black, Latina\" axis. There are a few outliers in which these students are overrepresented (i.e there are significantly less White and Asian students). \n",
    "\n",
    "**STEM selected:**\n",
    "* White: The points seem slightly more concentrated towards the middle (0.5) of the \"White\" axis.\n",
    "* Black, Latina: There is a lack of representation here, with most of the points clustered towards the lower half (below 0.2) the \"Black, Latina\" axis. \n",
    "* Asian: The points seem evenly spread out for these students. \n",
    "\n",
    "**Social_Sciences selected:**\n",
    "* White: The points seem slightly more concentrated towards the upper half (0.35) of the \"White\" axis.\n",
    "* Black, Latina: The points seem fairly spread out. There may be a slightly higher concentration of points towards the lower half (below 0.2) of the \"Black and Latina\"\n",
    "* Asian: The points are spread out and evenly distributed. "
   ]
  }
 ],
 "metadata": {
  "kernelspec": {
   "display_name": "Python 2",
   "language": "python",
   "name": "python2"
  },
  "language_info": {
   "codemirror_mode": {
    "name": "ipython",
    "version": 2
   },
   "file_extension": ".py",
   "mimetype": "text/x-python",
   "name": "python",
   "nbconvert_exporter": "python",
   "pygments_lexer": "ipython2",
   "version": "2.7.10"
  }
 },
 "nbformat": 4,
 "nbformat_minor": 0
}
